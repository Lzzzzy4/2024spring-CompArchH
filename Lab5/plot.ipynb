{
 "cells": [
  {
   "cell_type": "code",
   "execution_count": 13,
   "metadata": {},
   "outputs": [
    {
     "name": "stdout",
     "output_type": "stream",
     "text": [
      "| 矩阵大小         | Baseline/ms | AVX/ms   | AVX_Block/ms |\n",
      "| ---------------- | ----------- | -------- | ------------ |\n",
      "| 8$\\times$8       | 1.417523    | 1.294703 | -0.138112     |\n",
      "| 16$\\times$16       | 1.895140    | 1.787179 | 0.217173     |\n",
      "| 32$\\times$32       | 2.625133    | 1.515476 | 0.602975     |\n",
      "| 64$\\times$64       | 3.102039    | 1.225323 | 1.698647     |\n",
      "| 128$\\times$128       | 3.764442    | 2.038140 | 1.845815     |\n",
      "| 256$\\times$256       | 4.703267    | 3.332929 | 2.546455     |\n",
      "| 512$\\times$512       | 5.577926    | 3.242605 | 3.441954     |\n",
      "| 1024$\\times$1024       | 6.909607    | 4.037274 | 4.508480     |\n",
      "| 2048$\\times$2048       | 8.124131    | 5.227189 | 5.564798     |\n",
      "| 4096$\\times$4096       | 9.517025    | 5.988625 | 6.474343     |\n"
     ]
    },
    {
     "data": {
      "text/plain": [
       "[Text(0, 0, '8'),\n",
       " Text(1, 0, '16'),\n",
       " Text(2, 0, '32'),\n",
       " Text(3, 0, '64'),\n",
       " Text(4, 0, '128'),\n",
       " Text(5, 0, '256'),\n",
       " Text(6, 0, '512'),\n",
       " Text(7, 0, '1024'),\n",
       " Text(8, 0, '2048'),\n",
       " Text(9, 0, '4096')]"
      ]
     },
     "execution_count": 13,
     "metadata": {},
     "output_type": "execute_result"
    },
    {
     "data": {
      "image/png": "[encoded data removed]",
      "text/plain": [
       "<Figure size 432x288 with 1 Axes>"
      ]
     },
     "metadata": {
      "needs_background": "light"
     },
     "output_type": "display_data"
    }
   ],
   "source": [
    "# | 矩阵大小         | Baseline/ms | AVX/ms   | AVX_Block/ms |\n",
    "# | ---------------- | ----------- | -------- | ------------ |\n",
    "# | 8$\\times$8       | 0.000597    | 0.000528 | 0.000126     |\n",
    "# | 16$\\times$16     | 0.00385     | 0.003456 | 0.000719     |\n",
    "# | 32$\\times$32     | 0.031956    | 0.010535 | 0.00423      |\n",
    "# | 64$\\times$64     | 0.205935    | 0.031527 | 0.050611     |\n",
    "# | 128$\\times$128   | 1.5976      | 0.284279 | 0.234541     |\n",
    "# | 256$\\times$256   | 16.3401     | 4.15073  | 1.89044      |\n",
    "# | 512$\\times$512   | 156.738     | 15.169   | 18.5154      |\n",
    "# | 1024$\\times$1024 | 2374.52     | 134.319  | 215.169      |\n",
    "# | 2048$\\times$2048 | 31996.1     | 1765.92  | 2475.1       |\n",
    "# | 4096$\\times$4096 | 515327      | 15125.8  | 24584.6      |\n",
    "\n",
    "# 求每个元素的用时并画柱状图\n",
    "import matplotlib.pyplot as plt\n",
    "import numpy as np\n",
    "\n",
    "baseline = np.array([0.000597, 0.00385, 0.031956, 0.205935, 1.5976, 16.3401, 156.738, 2374.52, 31996.1, 515327])\n",
    "avx = np.array([0.000528, 0.003456, 0.010535, 0.031527, 0.284279, 4.15073, 15.169, 134.319, 1765.92, 15125.8])\n",
    "avx_block = np.array([0.000126, 0.000719, 0.00423, 0.050611, 0.234541, 1.89044, 18.5154, 215.169, 2475.1, 24584.6])\n",
    "N = np.array([8, 16, 32, 64, 128, 256, 512, 1024, 2048, 4096])\n",
    "\n",
    "for i in range(10):\n",
    "    baseline[i] /= (2 ** (2*(i+3)))\n",
    "    baseline[i] = np.log(baseline[i]) + 13\n",
    "    avx[i] /= (2 ** (2*(i+3)))\n",
    "    avx[i] = np.log(avx[i]) + 13\n",
    "    avx_block[i] /= (2 ** (2*(i+3)))\n",
    "    avx_block[i] = np.log(avx_block[i]) + 13\n",
    "\n",
    "# 按照上面表格的形式输出 将|号对齐\n",
    "print('| 矩阵大小         | Baseline/ms | AVX/ms   | AVX_Block/ms |')\n",
    "print('| ---------------- | ----------- | -------- | ------------ |')\n",
    "for i in range(10):\n",
    "    print('| %d$\\\\times$%d       | %.6f    | %.6f | %.6f     |' % (N[i], N[i], baseline[i], avx[i], avx_block[i]))\n",
    "\n",
    "x = np.arange(10)\n",
    "width = 0.3\n",
    "\n",
    "fig, ax = plt.subplots()\n",
    "rects1 = ax.bar(x - width, baseline, width, label='Baseline')\n",
    "rects2 = ax.bar(x, avx, width, label='AVX')\n",
    "rects3 = ax.bar(x + width, avx_block, width, label='AVX_Block')\n",
    "\n",
    "ax.set_title('Time per element')\n",
    "ax.set_xticks(x)\n",
    "ax.set_xticklabels(N)\n"
   ]
  }
 ],
 "metadata": {
  "kernelspec": {
   "display_name": "Python 3",
   "language": "python",
   "name": "python3"
  },
  "language_info": {
   "codemirror_mode": {
    "name": "ipython",
    "version": 3
   },
   "file_extension": ".py",
   "mimetype": "text/x-python",
   "name": "python",
   "nbconvert_exporter": "python",
   "pygments_lexer": "ipython3",
   "version": "3.10.4"
  }
 },
 "nbformat": 4,
 "nbformat_minor": 2
}
